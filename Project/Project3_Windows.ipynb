{
  "cells": [
    {
      "cell_type": "code",
      "execution_count": 1,
      "metadata": {
        "id": "F1vr9GTznt4X"
      },
      "outputs": [],
      "source": [
        "import numpy as np\n",
        "import pandas as pd\n",
        "import os\n",
        "import calendar\n",
        "from sklearn.model_selection import train_test_split \n",
        "from sklearn.linear_model import LinearRegression\n",
        "from sklearn.metrics import mean_squared_error, mean_absolute_error\n",
        "from sklearn.preprocessing import StandardScaler\n",
        "from sklearn.model_selection import GridSearchCV\n",
        "import matplotlib.pyplot as plt\n",
        "import seaborn as sns\n",
        "from sklearn.ensemble import RandomForestRegressor\n",
        "pd.options.display.max_columns =100\n",
        "from tqdm import tqdm\n",
        "%matplotlib inline\n",
        "\n",
        "from sklearn.preprocessing import MinMaxScaler\n",
        "from tensorflow import keras\n",
        "from keras.layers import LSTM\n",
        "from tensorflow.keras.preprocessing.sequence import TimeseriesGenerator\n",
        "from keras import Sequential\n",
        "from keras.layers import SimpleRNN, Dense\n",
        "import warnings\n",
        "from contextlib import nullcontext\n",
        "warnings.simplefilter(action='ignore', category=FutureWarning)"
      ]
    },
    {
      "cell_type": "code",
      "execution_count": 2,
      "metadata": {
        "id": "jIlCqeOoHfNd"
      },
      "outputs": [],
      "source": [
        "def readAllCSV():\n",
        "\n",
        "  month_mapping = {month: index for index, month in enumerate(calendar.month_name) if month}\n",
        "\n",
        "  file_list = os.listdir('data')\n",
        "\n",
        "  file_list = sorted(file_list, key=lambda x: month_mapping.get(x.split('.')[0]))\n",
        "  dfs = []\n",
        "  for file_name in file_list:\n",
        "      \n",
        "      file_path = os.path.join('data', file_name)\n",
        "      df = pd.read_csv(file_path, delimiter = ';',  encoding = 'latin-1')\n",
        "      dfs.append(df)\n",
        "  return dfs\n",
        "\n",
        "def extractUsefulInfo(table, columns):\n",
        "\n",
        "  df = table[columns]\n",
        "  df = df.drop(df.index[0])\n",
        "  df[columns] = df[columns].astype(float)\n",
        "  print(\"Printing NaN's\")\n",
        "  print(df.isna().sum())\n",
        "  df.dropna(inplace=True)\n",
        "  return df\n",
        "\n",
        "\n",
        "def plots(df,column,q_low,q_hi):\n",
        "  # Set the style of the plot\n",
        "  sns.set_style(\"whitegrid\")\n",
        "\n",
        "  # Set the thresholds\n",
        "  low_threshold = df[column].quantile(q_low)\n",
        "  high_threshold = df[column].quantile(q_hi)\n",
        "\n",
        "  # Filter the data\n",
        "  filtered_data = df[\n",
        "      (df[column] >= low_threshold) &\n",
        "      (df[column] <= high_threshold)\n",
        "  ]\n",
        "\n",
        "  # Downsampling the data\n",
        "  max_data_points = 2000  # Maximum number of data points to plot\n",
        "  if len(filtered_data) > max_data_points:\n",
        "      indices = np.linspace(0, len(filtered_data) - 1, max_data_points, dtype=int)\n",
        "      downsampled_data = filtered_data.iloc[indices]\n",
        "  else:\n",
        "      downsampled_data = filtered_data\n",
        "\n",
        "  # Create the plot using Seaborn\n",
        "  plt.figure(figsize=(10, 6))\n",
        "  sns.lineplot(x='date', y=column, data=downsampled_data)\n",
        "\n",
        "  # Set the x-axis tick labels\n",
        "  num_ticks = 10\n",
        "  step = len(downsampled_data) // num_ticks\n",
        "  x_ticks = downsampled_data['date'][::step]\n",
        "  plt.xticks(x_ticks, rotation=90)\n",
        "\n",
        "  # Set the plot labels and title\n",
        "  plt.xlabel('Date')\n",
        "  plt.ylabel(column)\n",
        "  plt.title('Visualization of ' + column + ' (Filtered)')\n",
        "\n",
        "  # Display the plot\n",
        "  plt.show()\n"
      ]
    },
    {
      "cell_type": "code",
      "execution_count": 3,
      "metadata": {
        "colab": {
          "base_uri": "https://localhost:8080/"
        },
        "id": "2VZ_kKqiHy5d",
        "outputId": "4a7f1c54-b7f8-4081-939b-1092a62ef915"
      },
      "outputs": [
        {
          "name": "stderr",
          "output_type": "stream",
          "text": [
            "C:\\Users\\msi\\AppData\\Local\\Temp\\ipykernel_8032\\2314126731.py:1: DtypeWarning: Columns (3,4,5,6,7,8,9,10,11,12,13,14,15,16,17,18,19,20,21,22,23,24,25,26,27,28,29,30,31,32,33,34,35,36,37,38,39,40,41,42,43,44,45,46,47,48,49,50,51,52,53,54,55,56,57,58,59,60,61,62,63,64,65,66,67,68,69,70,71,72,73,74,75,76,77,78,79,80,81,82,83,84,85,86,87,88,89,90,91,92,93,94,95) have mixed types.Specify dtype option on import or set low_memory=False.\n",
            "  df_list = readAllCSV()\n",
            "C:\\Users\\msi\\AppData\\Local\\Temp\\ipykernel_8032\\2314126731.py:1: DtypeWarning: Columns (4,5,6,7,8,9,10,11,12,13,14,15,16,17,18,19,20,21,22,23,24,25,26,27,28,29,30,31,32,33,34,35,36,37,38,39,40,42,43,44,45,46,47,48,49,50,51,52,53,54,55,56,57,58,59,60,61,62,63,64,65,66,67,68,69,70,71,72,73,74,75,76,77,78,79,80,81,82,83,84,85,86,87,88,89,90,91,92,93,94) have mixed types.Specify dtype option on import or set low_memory=False.\n",
            "  df_list = readAllCSV()\n",
            "C:\\Users\\msi\\AppData\\Local\\Temp\\ipykernel_8032\\2314126731.py:1: DtypeWarning: Columns (4,5,6,7,8,9,10,11,12,13,14,15,16,17,18,19,20,21,22,23,24,25,26,27,28,29,30,31,32,33,34,35,36,37,38,39,40,41,42,43,44,45,46,47,48,49,50,51,52,53,54,55,56,57,58,59,60,61,62,63,64,65,66,67,68,69,70,71,72,73,74,75,76,77,78,79,80,81,82,83,84,85,86,87,88,89,90,91,92,93,94,114) have mixed types.Specify dtype option on import or set low_memory=False.\n",
            "  df_list = readAllCSV()\n"
          ]
        }
      ],
      "source": [
        "df_list = readAllCSV()"
      ]
    },
    {
      "cell_type": "code",
      "execution_count": 4,
      "metadata": {
        "id": "TPobP5DsK9t-"
      },
      "outputs": [
        {
          "data": {
            "text/plain": [
              "0                       NaT\n",
              "1       2019-06-01 00:00:00\n",
              "2       2019-06-01 00:00:00\n",
              "3       2019-06-01 00:01:00\n",
              "4       2019-06-01 00:01:00\n",
              "                ...        \n",
              "77144   2019-06-30 23:58:00\n",
              "77145   2019-06-30 23:58:00\n",
              "77146   2019-06-30 23:58:00\n",
              "77147   2019-06-30 23:59:00\n",
              "77148   2019-06-30 23:59:00\n",
              "Name: date, Length: 77149, dtype: datetime64[ns]"
            ]
          },
          "execution_count": 4,
          "metadata": {},
          "output_type": "execute_result"
        }
      ],
      "source": [
        "june = df_list[1]\n",
        "june['date1']  = pd.to_datetime(june['date'],format='%d/%m/%Y %H:%M' ,errors='coerce')#, infer_datetime_format=True)# , errors='ignore')\n",
        "june['date2'] =pd.to_datetime(june['date'], format= '%Y-%m-%d %H:%M:%S.%f', errors='coerce')\n",
        "june['combined_date'] = june['date1'].combine_first(june['date2'])\n",
        "june.drop(['date1'], axis=1)\n",
        "june.drop(['date2'], axis=1)\n",
        "june.drop(['date'], axis=1)\n",
        "june['date'] = june['combined_date']\n",
        "june.drop(['combined_date'], axis=1)\n",
        "june['date'] "
      ]
    },
    {
      "cell_type": "code",
      "execution_count": 5,
      "metadata": {
        "colab": {
          "base_uri": "https://localhost:8080/"
        },
        "id": "kft3VrKE2G7E",
        "outputId": "5ae1fc02-2d10-407d-98bb-937850f0273c"
      },
      "outputs": [
        {
          "name": "stdout",
          "output_type": "stream",
          "text": [
            "Printing NaN's\n",
            "separator_speed_rpm_pv      10\n",
            "mill_dp_mbar_pv             14\n",
            "separator_pwr_kw_pv         14\n",
            "cement_type_cpii_bool_pv    14\n",
            "cement_type_cpiv_bool_pv    11\n",
            "mill_operation              14\n",
            "dtype: int64\n"
          ]
        }
      ],
      "source": [
        "columns = ['separator_speed_rpm_pv', 'mill_dp_mbar_pv', 'separator_pwr_kw_pv', 'cement_type_cpii_bool_pv','cement_type_cpiv_bool_pv', 'mill_operation']\n",
        "\n",
        "june_first = extractUsefulInfo(june,columns)\n",
        "june_first['date'] = june['date']"
      ]
    },
    {
      "cell_type": "code",
      "execution_count": 6,
      "metadata": {
        "colab": {
          "base_uri": "https://localhost:8080/"
        },
        "id": "OIpFyAQq8guG",
        "outputId": "bbb7861d-5c21-474b-a046-15e4bba93639"
      },
      "outputs": [
        {
          "data": {
            "text/plain": [
              "(77149, 99)"
            ]
          },
          "execution_count": 6,
          "metadata": {},
          "output_type": "execute_result"
        }
      ],
      "source": [
        "june.shape"
      ]
    },
    {
      "cell_type": "code",
      "execution_count": 7,
      "metadata": {
        "id": "NIDVJxIj8c6u"
      },
      "outputs": [],
      "source": [
        "# Remove rows where both column1 and column2 are 1\n",
        "june = june[(june['cement_type_cpiv_bool_pv'] != 1) | (june['cement_type_cpii_bool_pv'] != 1)]\n"
      ]
    },
    {
      "cell_type": "code",
      "execution_count": 8,
      "metadata": {
        "colab": {
          "base_uri": "https://localhost:8080/"
        },
        "id": "qrpS1MBh8ipe",
        "outputId": "689f96ab-f66f-44ab-bf78-732138730192"
      },
      "outputs": [
        {
          "data": {
            "text/plain": [
              "(77149, 99)"
            ]
          },
          "execution_count": 8,
          "metadata": {},
          "output_type": "execute_result"
        }
      ],
      "source": [
        "june.shape"
      ]
    },
    {
      "cell_type": "code",
      "execution_count": 9,
      "metadata": {
        "id": "6ayftikG4-Z1"
      },
      "outputs": [],
      "source": [
        "\n",
        "cement_1 = june_first[(june_first['cement_type_cpiv_bool_pv'] == 1) & (june_first['cement_type_cpii_bool_pv'] == 0) & (june_first['mill_operation'] == 1)]\n",
        "\n",
        "\n",
        "cement_2 = june_first[(june_first['cement_type_cpiv_bool_pv'] == 0) & (june_first['cement_type_cpii_bool_pv'] == 1) & (june_first['mill_operation'] == 1)]"
      ]
    },
    {
      "cell_type": "code",
      "execution_count": 10,
      "metadata": {
        "colab": {
          "base_uri": "https://localhost:8080/"
        },
        "id": "5GOFECva8_Ea",
        "outputId": "4b98c6f3-f249-4cd8-e4c6-fc1722c1df24"
      },
      "outputs": [
        {
          "name": "stdout",
          "output_type": "stream",
          "text": [
            "(28080, 7)\n",
            "(17310, 7)\n"
          ]
        }
      ],
      "source": [
        "print(cement_1.shape)\n",
        "print(cement_2.shape)"
      ]
    },
    {
      "cell_type": "code",
      "execution_count": 11,
      "metadata": {
        "colab": {
          "base_uri": "https://localhost:8080/"
        },
        "id": "Zesv9aUu_Qs0",
        "outputId": "ed1cca15-92f0-453b-8b2c-8272383fe0f1"
      },
      "outputs": [
        {
          "data": {
            "text/plain": [
              "0"
            ]
          },
          "execution_count": 11,
          "metadata": {},
          "output_type": "execute_result"
        }
      ],
      "source": [
        "\n",
        "na1=june_first['date'].isna().sum()\n",
        "na1"
      ]
    },
    {
      "cell_type": "code",
      "execution_count": 12,
      "metadata": {
        "colab": {
          "base_uri": "https://localhost:8080/"
        },
        "id": "tTrIK6Cm_Fn0",
        "outputId": "63d5f030-a1cb-4419-846e-acf29840db0d"
      },
      "outputs": [
        {
          "data": {
            "text/plain": [
              "0"
            ]
          },
          "execution_count": 12,
          "metadata": {},
          "output_type": "execute_result"
        }
      ],
      "source": [
        "na1=cement_1['date'].isna().sum()\n",
        "\n",
        "na1"
      ]
    },
    {
      "cell_type": "code",
      "execution_count": 13,
      "metadata": {},
      "outputs": [
        {
          "data": {
            "text/plain": [
              "7775    2019-06-03 16:47:00\n",
              "7776    2019-06-03 16:47:00\n",
              "7777    2019-06-03 16:48:00\n",
              "7778    2019-06-03 16:48:00\n",
              "7782    2019-06-03 16:50:00\n",
              "                ...        \n",
              "77144   2019-06-30 23:58:00\n",
              "77145   2019-06-30 23:58:00\n",
              "77146   2019-06-30 23:58:00\n",
              "77147   2019-06-30 23:59:00\n",
              "77148   2019-06-30 23:59:00\n",
              "Name: date, Length: 28080, dtype: datetime64[ns]"
            ]
          },
          "execution_count": 13,
          "metadata": {},
          "output_type": "execute_result"
        }
      ],
      "source": [
        "\n",
        "cement_1['date']"
      ]
    },
    {
      "cell_type": "code",
      "execution_count": 14,
      "metadata": {
        "colab": {
          "base_uri": "https://localhost:8080/"
        },
        "id": "7g9YeoQNXQma",
        "outputId": "90392b44-27cb-492b-eda2-cb2948b1c4bd"
      },
      "outputs": [
        {
          "name": "stderr",
          "output_type": "stream",
          "text": [
            "100%|██████████| 2592000/2592000.0 [01:22<00:00, 31576.88it/s]\n"
          ]
        },
        {
          "name": "stdout",
          "output_type": "stream",
          "text": [
            "86400\n"
          ]
        }
      ],
      "source": [
        "i = pd.to_datetime('2019-06-01 00:00:00')\n",
        "end_date = pd.to_datetime('2019-07-01 00:00:00')\n",
        "\n",
        "progress_bar = tqdm(total=(end_date - i).total_seconds())\n",
        "filtered_dfs = []\n",
        "total_rows = 0\n",
        "\n",
        "while i < end_date:\n",
        "\n",
        "    filtered_rows = cement_1[cement_1['date'] == str(i)]\n",
        "    if len(filtered_rows) < 1 :\n",
        "        total_rows+=1\n",
        "        progress_bar.update(30)\n",
        "        i += pd.Timedelta(seconds=30)\n",
        "        continue\n",
        "    averaged_df = filtered_rows.groupby('date').mean().reset_index()\n",
        "\n",
        "    filtered_dfs.append(averaged_df)\n",
        "    \n",
        "    total_rows+=1\n",
        "    progress_bar.update(30)\n",
        "    i += pd.Timedelta(seconds=30)\n",
        "\n",
        "progress_bar.close()\n",
        "filtered_df = pd.concat(filtered_dfs)\n",
        "filtered_df['date'] = pd.to_datetime(filtered_df['date'])\n",
        "print(total_rows)"
      ]
    },
    {
      "cell_type": "code",
      "execution_count": 15,
      "metadata": {
        "id": "CYUr_00UaCuN"
      },
      "outputs": [],
      "source": [
        "filtered_df = pd.concat(filtered_dfs)\n",
        "filtered_df['date'] = pd.to_datetime(filtered_df['date'])"
      ]
    },
    {
      "cell_type": "code",
      "execution_count": 16,
      "metadata": {
        "colab": {
          "base_uri": "https://localhost:8080/"
        },
        "id": "YclmDMPPL0j0",
        "outputId": "6c720b53-aa8e-486c-c4f3-2e87a9c6f39f"
      },
      "outputs": [
        {
          "data": {
            "text/plain": [
              "date                        datetime64[ns]\n",
              "separator_speed_rpm_pv             float64\n",
              "mill_dp_mbar_pv                    float64\n",
              "separator_pwr_kw_pv                float64\n",
              "cement_type_cpii_bool_pv           float64\n",
              "cement_type_cpiv_bool_pv           float64\n",
              "mill_operation                     float64\n",
              "dtype: object"
            ]
          },
          "execution_count": 16,
          "metadata": {},
          "output_type": "execute_result"
        }
      ],
      "source": [
        "filtered_df.dtypes\n",
        "\n"
      ]
    },
    {
      "cell_type": "code",
      "execution_count": 17,
      "metadata": {
        "colab": {
          "base_uri": "https://localhost:8080/"
        },
        "id": "OJj8LaueLh9T",
        "outputId": "bd31df39-e8a0-4173-a529-d19a30b63069"
      },
      "outputs": [
        {
          "name": "stderr",
          "output_type": "stream",
          "text": [
            "  0%|          | 0/2592000.0 [00:00<?, ?it/s]"
          ]
        },
        {
          "name": "stderr",
          "output_type": "stream",
          "text": [
            "100%|██████████| 2592000/2592000.0 [07:35<00:00, 5686.61it/s] \n"
          ]
        }
      ],
      "source": [
        "i = pd.to_datetime('2019-06-01 00:00:00')\n",
        "progress_bar = tqdm(total=(end_date - i).total_seconds())\n",
        "\n",
        "end_date = pd.to_datetime('2019-07-01 00:00:00')\n",
        "numeric_cols = ['separator_speed_rpm_pv', 'mill_dp_mbar_pv', 'separator_pwr_kw_pv', 'cement_type_cpii_bool_pv','cement_type_cpiv_bool_pv', 'mill_operation']\n",
        "int_cols = ['cement_type_cpii_bool_pv','cement_type_cpiv_bool_pv', 'mill_operation']\n",
        "reset = 0 \n",
        "while i < end_date:   \n",
        "    filtered_rows = filtered_df[filtered_df['date'] == str(i)]\n",
        "\n",
        "    progress_bar.update(30)\n",
        "    if len(filtered_rows) < 1 and reset < 1:\n",
        "        reset +=1 \n",
        "        preceding_row = filtered_df[filtered_df['date'] < str(i)].tail(1)\n",
        "        following_row = filtered_df[filtered_df['date'] > str(i)].head(1)\n",
        "        if not (preceding_row.empty or following_row.empty):\n",
        "            \n",
        "            mean_values = (preceding_row.iloc[0][numeric_cols] + following_row.iloc[0][numeric_cols])\n",
        "            mean_values[numeric_cols] = mean_values[numeric_cols] / 2\n",
        "\n",
        "            new_row = pd.DataFrame([mean_values], columns=filtered_df.columns)\n",
        "            new_row['date'] = i\n",
        "            new_row[int_cols] = new_row[int_cols].applymap(lambda x: 0 if x < 1 else x)\n",
        "\n",
        "            filtered_df = filtered_df.append(new_row, ignore_index=True)\n",
        "\n",
        "    else:\n",
        "        reset = 0\n",
        "    i += pd.Timedelta(seconds=30)\n",
        "\n",
        "filtered_df[int_cols] = filtered_df[int_cols].applymap(lambda x: 0 if x < 1 else x)    \n",
        "\n",
        "progress_bar.close()\n"
      ]
    },
    {
      "cell_type": "code",
      "execution_count": 18,
      "metadata": {},
      "outputs": [
        {
          "data": {
            "text/html": [
              "<div>\n",
              "<style scoped>\n",
              "    .dataframe tbody tr th:only-of-type {\n",
              "        vertical-align: middle;\n",
              "    }\n",
              "\n",
              "    .dataframe tbody tr th {\n",
              "        vertical-align: top;\n",
              "    }\n",
              "\n",
              "    .dataframe thead th {\n",
              "        text-align: right;\n",
              "    }\n",
              "</style>\n",
              "<table border=\"1\" class=\"dataframe\">\n",
              "  <thead>\n",
              "    <tr style=\"text-align: right;\">\n",
              "      <th></th>\n",
              "      <th>date</th>\n",
              "      <th>separator_speed_rpm_pv</th>\n",
              "      <th>mill_dp_mbar_pv</th>\n",
              "      <th>separator_pwr_kw_pv</th>\n",
              "      <th>cement_type_cpii_bool_pv</th>\n",
              "      <th>cement_type_cpiv_bool_pv</th>\n",
              "      <th>mill_operation</th>\n",
              "    </tr>\n",
              "  </thead>\n",
              "  <tbody>\n",
              "    <tr>\n",
              "      <th>0</th>\n",
              "      <td>2019-06-03 16:47:00</td>\n",
              "      <td>700.980000</td>\n",
              "      <td>33.815000</td>\n",
              "      <td>55.255000</td>\n",
              "      <td>0</td>\n",
              "      <td>1.0</td>\n",
              "      <td>1.0</td>\n",
              "    </tr>\n",
              "    <tr>\n",
              "      <th>17426</th>\n",
              "      <td>2019-06-03 16:47:30</td>\n",
              "      <td>656.815000</td>\n",
              "      <td>35.160000</td>\n",
              "      <td>65.165000</td>\n",
              "      <td>0</td>\n",
              "      <td>1.0</td>\n",
              "      <td>1.0</td>\n",
              "    </tr>\n",
              "    <tr>\n",
              "      <th>1</th>\n",
              "      <td>2019-06-03 16:48:00</td>\n",
              "      <td>612.650000</td>\n",
              "      <td>36.505000</td>\n",
              "      <td>75.075000</td>\n",
              "      <td>0</td>\n",
              "      <td>1.0</td>\n",
              "      <td>1.0</td>\n",
              "    </tr>\n",
              "    <tr>\n",
              "      <th>17427</th>\n",
              "      <td>2019-06-03 16:48:30</td>\n",
              "      <td>592.682500</td>\n",
              "      <td>33.650000</td>\n",
              "      <td>61.072500</td>\n",
              "      <td>0</td>\n",
              "      <td>1.0</td>\n",
              "      <td>1.0</td>\n",
              "    </tr>\n",
              "    <tr>\n",
              "      <th>17428</th>\n",
              "      <td>2019-06-03 16:49:30</td>\n",
              "      <td>560.616250</td>\n",
              "      <td>32.895000</td>\n",
              "      <td>59.026250</td>\n",
              "      <td>0</td>\n",
              "      <td>1.0</td>\n",
              "      <td>1.0</td>\n",
              "    </tr>\n",
              "    <tr>\n",
              "      <th>...</th>\n",
              "      <td>...</td>\n",
              "      <td>...</td>\n",
              "      <td>...</td>\n",
              "      <td>...</td>\n",
              "      <td>...</td>\n",
              "      <td>...</td>\n",
              "      <td>...</td>\n",
              "    </tr>\n",
              "    <tr>\n",
              "      <th>17423</th>\n",
              "      <td>2019-06-30 23:57:00</td>\n",
              "      <td>718.697500</td>\n",
              "      <td>33.085000</td>\n",
              "      <td>56.100000</td>\n",
              "      <td>0</td>\n",
              "      <td>1.0</td>\n",
              "      <td>1.0</td>\n",
              "    </tr>\n",
              "    <tr>\n",
              "      <th>52876</th>\n",
              "      <td>2019-06-30 23:57:30</td>\n",
              "      <td>712.781524</td>\n",
              "      <td>33.485623</td>\n",
              "      <td>56.395750</td>\n",
              "      <td>0</td>\n",
              "      <td>1.0</td>\n",
              "      <td>1.0</td>\n",
              "    </tr>\n",
              "    <tr>\n",
              "      <th>17424</th>\n",
              "      <td>2019-06-30 23:58:00</td>\n",
              "      <td>719.070000</td>\n",
              "      <td>33.565000</td>\n",
              "      <td>56.755000</td>\n",
              "      <td>0</td>\n",
              "      <td>1.0</td>\n",
              "      <td>1.0</td>\n",
              "    </tr>\n",
              "    <tr>\n",
              "      <th>52877</th>\n",
              "      <td>2019-06-30 23:58:30</td>\n",
              "      <td>723.293262</td>\n",
              "      <td>33.657811</td>\n",
              "      <td>56.455375</td>\n",
              "      <td>0</td>\n",
              "      <td>1.0</td>\n",
              "      <td>1.0</td>\n",
              "    </tr>\n",
              "    <tr>\n",
              "      <th>17425</th>\n",
              "      <td>2019-06-30 23:59:00</td>\n",
              "      <td>733.805000</td>\n",
              "      <td>33.830000</td>\n",
              "      <td>56.515000</td>\n",
              "      <td>0</td>\n",
              "      <td>1.0</td>\n",
              "      <td>1.0</td>\n",
              "    </tr>\n",
              "  </tbody>\n",
              "</table>\n",
              "<p>52878 rows × 7 columns</p>\n",
              "</div>"
            ],
            "text/plain": [
              "                     date  separator_speed_rpm_pv  mill_dp_mbar_pv  \\\n",
              "0     2019-06-03 16:47:00              700.980000        33.815000   \n",
              "17426 2019-06-03 16:47:30              656.815000        35.160000   \n",
              "1     2019-06-03 16:48:00              612.650000        36.505000   \n",
              "17427 2019-06-03 16:48:30              592.682500        33.650000   \n",
              "17428 2019-06-03 16:49:30              560.616250        32.895000   \n",
              "...                   ...                     ...              ...   \n",
              "17423 2019-06-30 23:57:00              718.697500        33.085000   \n",
              "52876 2019-06-30 23:57:30              712.781524        33.485623   \n",
              "17424 2019-06-30 23:58:00              719.070000        33.565000   \n",
              "52877 2019-06-30 23:58:30              723.293262        33.657811   \n",
              "17425 2019-06-30 23:59:00              733.805000        33.830000   \n",
              "\n",
              "       separator_pwr_kw_pv  cement_type_cpii_bool_pv  \\\n",
              "0                55.255000                         0   \n",
              "17426            65.165000                         0   \n",
              "1                75.075000                         0   \n",
              "17427            61.072500                         0   \n",
              "17428            59.026250                         0   \n",
              "...                    ...                       ...   \n",
              "17423            56.100000                         0   \n",
              "52876            56.395750                         0   \n",
              "17424            56.755000                         0   \n",
              "52877            56.455375                         0   \n",
              "17425            56.515000                         0   \n",
              "\n",
              "       cement_type_cpiv_bool_pv  mill_operation  \n",
              "0                           1.0             1.0  \n",
              "17426                       1.0             1.0  \n",
              "1                           1.0             1.0  \n",
              "17427                       1.0             1.0  \n",
              "17428                       1.0             1.0  \n",
              "...                         ...             ...  \n",
              "17423                       1.0             1.0  \n",
              "52876                       1.0             1.0  \n",
              "17424                       1.0             1.0  \n",
              "52877                       1.0             1.0  \n",
              "17425                       1.0             1.0  \n",
              "\n",
              "[52878 rows x 7 columns]"
            ]
          },
          "execution_count": 18,
          "metadata": {},
          "output_type": "execute_result"
        }
      ],
      "source": [
        "filtered_df= filtered_df.sort_values('date')\n",
        "filtered_df"
      ]
    },
    {
      "cell_type": "code",
      "execution_count": 19,
      "metadata": {},
      "outputs": [
        {
          "data": {
            "text/plain": [
              "<matplotlib.legend.Legend at 0x2796f0a3400>"
            ]
          },
          "execution_count": 19,
          "metadata": {},
          "output_type": "execute_result"
        },
        {
          "data": {
            "image/png": "[encoded data removed]",
            "text/plain": [
              "<Figure size 432x288 with 1 Axes>"
            ]
          },
          "metadata": {
            "needs_background": "light"
          },
          "output_type": "display_data"
        }
      ],
      "source": [
        "train_set = filtered_df[:int(6*len(filtered_df)/10)]['date']\n",
        "validation_set = filtered_df[int(6*len(filtered_df)/10):int(8*len(filtered_df)/10)]['date']\n",
        "test_set = filtered_df[int(8*len(filtered_df)/10):]['date']\n",
        "\n",
        "train_set.plot(label='train')\n",
        "validation_set.plot(label='validation')\n",
        "test_set.plot(label='test')\n",
        "\n",
        "plt.legend()"
      ]
    },
    {
      "cell_type": "code",
      "execution_count": 20,
      "metadata": {},
      "outputs": [],
      "source": [
        "def build_dset(dset,col, lookback, horizon):\n",
        "    dset = dset[col]\n",
        "    data = pd.concat([dset.shift(-i) for i in range(lookback+horizon)], axis=1).dropna()\n",
        "\n",
        "    return data.iloc[:, :lookback], data.iloc[:, lookback:]"
      ]
    },
    {
      "cell_type": "code",
      "execution_count": 21,
      "metadata": {},
      "outputs": [],
      "source": [
        "train_set = filtered_df[:int(6*len(filtered_df)/10)]\n",
        "validation_set = filtered_df[int(6*len(filtered_df)/10):int(8*len(filtered_df)/10)]\n",
        "test_set = filtered_df[int(8*len(filtered_df)/10):]"
      ]
    },
    {
      "cell_type": "code",
      "execution_count": 34,
      "metadata": {},
      "outputs": [],
      "source": [
        "def create_Windows(set):\n",
        "    lookback = 10\n",
        "    horizon = 5\n",
        "    columns = ['date', 'separator_speed_rpm_pv', 'mill_dp_mbar_pv', 'separator_pwr_kw_pv']\n",
        "    input_columns = ['separator_speed_rpm_pv','mill_dp_mbar_pv']\n",
        "    X_list = []\n",
        "    tmp = []\n",
        "    for col in columns[:-1]:\n",
        "        x, _ = build_dset(set, col, lookback, horizon)\n",
        "        X_list.append(x)\n",
        "\n",
        "\n",
        "\n",
        "\n",
        "    # remove windows that will have missing dates\n",
        "    threshold = lookback * pd.Timedelta(seconds=30)\n",
        "    index_toremove = []\n",
        "    for index, row in X_list[0].iterrows():\n",
        "        t1 = row.iloc[0]\n",
        "        t2 = row.iloc[-1]\n",
        "        difference = t2 - t1\n",
        "\n",
        "        if (difference > threshold ):\n",
        "            index_toremove.append(index)\n",
        "            \n",
        "    mask = ~X_list[0].index.isin(index_toremove)\n",
        "\n",
        "    for i in range(len(X_list)):\n",
        "        X_list[i] = X_list[i].loc[mask]\n",
        "\n",
        "\n",
        "\n",
        "\n",
        "    for en in range(0,lookback):\n",
        "        tmp.append(pd.concat([df.iloc[:, en] for df in X_list], axis=1))\n",
        "\n",
        "    x_train = pd.concat(tmp, axis=1)  \n",
        "    x_train.columns = [f'{input_columns[i%len(input_columns)]}_column_{i}' for i in range(x_train.shape[1])]\n",
        "\n",
        "    _, y_train = build_dset(set, columns[-1], lookback, horizon)\n",
        "    \n",
        "    # also remove from y_train the missing dates\n",
        "    y_train = y_train[mask]\n",
        "    return x_train,y_train"
      ]
    },
    {
      "cell_type": "code",
      "execution_count": 35,
      "metadata": {},
      "outputs": [],
      "source": [
        "x_train,y_train = create_Windows(train_set)\n",
        "x_validation,y_validation = create_Windows(validation_set)\n",
        "x_test,y_test = create_Windows(test_set)"
      ]
    },
    {
      "cell_type": "code",
      "execution_count": 36,
      "metadata": {},
      "outputs": [
        {
          "data": {
            "text/html": [
              "<div>\n",
              "<style scoped>\n",
              "    .dataframe tbody tr th:only-of-type {\n",
              "        vertical-align: middle;\n",
              "    }\n",
              "\n",
              "    .dataframe tbody tr th {\n",
              "        vertical-align: top;\n",
              "    }\n",
              "\n",
              "    .dataframe thead th {\n",
              "        text-align: right;\n",
              "    }\n",
              "</style>\n",
              "<table border=\"1\" class=\"dataframe\">\n",
              "  <thead>\n",
              "    <tr style=\"text-align: right;\">\n",
              "      <th></th>\n",
              "      <th>separator_speed_rpm_pv_column_0</th>\n",
              "      <th>mill_dp_mbar_pv_column_1</th>\n",
              "      <th>separator_speed_rpm_pv_column_2</th>\n",
              "      <th>mill_dp_mbar_pv_column_3</th>\n",
              "      <th>separator_speed_rpm_pv_column_4</th>\n",
              "      <th>mill_dp_mbar_pv_column_5</th>\n",
              "      <th>separator_speed_rpm_pv_column_6</th>\n",
              "      <th>mill_dp_mbar_pv_column_7</th>\n",
              "      <th>separator_speed_rpm_pv_column_8</th>\n",
              "      <th>mill_dp_mbar_pv_column_9</th>\n",
              "      <th>separator_speed_rpm_pv_column_10</th>\n",
              "      <th>mill_dp_mbar_pv_column_11</th>\n",
              "      <th>separator_speed_rpm_pv_column_12</th>\n",
              "      <th>mill_dp_mbar_pv_column_13</th>\n",
              "      <th>separator_speed_rpm_pv_column_14</th>\n",
              "      <th>mill_dp_mbar_pv_column_15</th>\n",
              "      <th>separator_speed_rpm_pv_column_16</th>\n",
              "      <th>mill_dp_mbar_pv_column_17</th>\n",
              "      <th>separator_speed_rpm_pv_column_18</th>\n",
              "      <th>mill_dp_mbar_pv_column_19</th>\n",
              "      <th>separator_speed_rpm_pv_column_20</th>\n",
              "      <th>mill_dp_mbar_pv_column_21</th>\n",
              "      <th>separator_speed_rpm_pv_column_22</th>\n",
              "      <th>mill_dp_mbar_pv_column_23</th>\n",
              "      <th>separator_speed_rpm_pv_column_24</th>\n",
              "      <th>mill_dp_mbar_pv_column_25</th>\n",
              "      <th>separator_speed_rpm_pv_column_26</th>\n",
              "      <th>mill_dp_mbar_pv_column_27</th>\n",
              "      <th>separator_speed_rpm_pv_column_28</th>\n",
              "      <th>mill_dp_mbar_pv_column_29</th>\n",
              "    </tr>\n",
              "  </thead>\n",
              "  <tbody>\n",
              "    <tr>\n",
              "      <th>0</th>\n",
              "      <td>2019-06-03 16:47:00</td>\n",
              "      <td>700.98000</td>\n",
              "      <td>33.815</td>\n",
              "      <td>2019-06-03 16:47:30</td>\n",
              "      <td>656.81500</td>\n",
              "      <td>35.160</td>\n",
              "      <td>2019-06-03 16:48:00</td>\n",
              "      <td>612.650000</td>\n",
              "      <td>36.5050</td>\n",
              "      <td>2019-06-03 16:48:30</td>\n",
              "      <td>592.682500</td>\n",
              "      <td>33.6500</td>\n",
              "      <td>2019-06-03 16:49:30</td>\n",
              "      <td>560.616250</td>\n",
              "      <td>32.89500</td>\n",
              "      <td>2019-06-03 16:50:00</td>\n",
              "      <td>528.550000</td>\n",
              "      <td>32.14000</td>\n",
              "      <td>2019-06-03 16:50:30</td>\n",
              "      <td>587.373125</td>\n",
              "      <td>33.857500</td>\n",
              "      <td>2019-06-03 16:51:00</td>\n",
              "      <td>614.130000</td>\n",
              "      <td>34.820000</td>\n",
              "      <td>2019-06-03 16:51:30</td>\n",
              "      <td>644.124063</td>\n",
              "      <td>33.718750</td>\n",
              "      <td>2019-06-03 16:52:00</td>\n",
              "      <td>700.875000</td>\n",
              "      <td>33.580000</td>\n",
              "    </tr>\n",
              "    <tr>\n",
              "      <th>17426</th>\n",
              "      <td>2019-06-03 16:47:30</td>\n",
              "      <td>656.81500</td>\n",
              "      <td>35.160</td>\n",
              "      <td>2019-06-03 16:48:00</td>\n",
              "      <td>612.65000</td>\n",
              "      <td>36.505</td>\n",
              "      <td>2019-06-03 16:48:30</td>\n",
              "      <td>592.682500</td>\n",
              "      <td>33.6500</td>\n",
              "      <td>2019-06-03 16:49:30</td>\n",
              "      <td>560.616250</td>\n",
              "      <td>32.8950</td>\n",
              "      <td>2019-06-03 16:50:00</td>\n",
              "      <td>528.550000</td>\n",
              "      <td>32.14000</td>\n",
              "      <td>2019-06-03 16:50:30</td>\n",
              "      <td>587.373125</td>\n",
              "      <td>33.85750</td>\n",
              "      <td>2019-06-03 16:51:00</td>\n",
              "      <td>614.130000</td>\n",
              "      <td>34.820000</td>\n",
              "      <td>2019-06-03 16:51:30</td>\n",
              "      <td>644.124063</td>\n",
              "      <td>33.718750</td>\n",
              "      <td>2019-06-03 16:52:00</td>\n",
              "      <td>700.875000</td>\n",
              "      <td>33.580000</td>\n",
              "      <td>2019-06-03 16:52:30</td>\n",
              "      <td>672.604531</td>\n",
              "      <td>33.359375</td>\n",
              "    </tr>\n",
              "    <tr>\n",
              "      <th>1</th>\n",
              "      <td>2019-06-03 16:48:00</td>\n",
              "      <td>612.65000</td>\n",
              "      <td>36.505</td>\n",
              "      <td>2019-06-03 16:48:30</td>\n",
              "      <td>592.68250</td>\n",
              "      <td>33.650</td>\n",
              "      <td>2019-06-03 16:49:30</td>\n",
              "      <td>560.616250</td>\n",
              "      <td>32.8950</td>\n",
              "      <td>2019-06-03 16:50:00</td>\n",
              "      <td>528.550000</td>\n",
              "      <td>32.1400</td>\n",
              "      <td>2019-06-03 16:50:30</td>\n",
              "      <td>587.373125</td>\n",
              "      <td>33.85750</td>\n",
              "      <td>2019-06-03 16:51:00</td>\n",
              "      <td>614.130000</td>\n",
              "      <td>34.82000</td>\n",
              "      <td>2019-06-03 16:51:30</td>\n",
              "      <td>644.124063</td>\n",
              "      <td>33.718750</td>\n",
              "      <td>2019-06-03 16:52:00</td>\n",
              "      <td>700.875000</td>\n",
              "      <td>33.580000</td>\n",
              "      <td>2019-06-03 16:52:30</td>\n",
              "      <td>672.604531</td>\n",
              "      <td>33.359375</td>\n",
              "      <td>2019-06-03 16:53:00</td>\n",
              "      <td>701.085000</td>\n",
              "      <td>33.000000</td>\n",
              "    </tr>\n",
              "    <tr>\n",
              "      <th>17427</th>\n",
              "      <td>2019-06-03 16:48:30</td>\n",
              "      <td>592.68250</td>\n",
              "      <td>33.650</td>\n",
              "      <td>2019-06-03 16:49:30</td>\n",
              "      <td>560.61625</td>\n",
              "      <td>32.895</td>\n",
              "      <td>2019-06-03 16:50:00</td>\n",
              "      <td>528.550000</td>\n",
              "      <td>32.1400</td>\n",
              "      <td>2019-06-03 16:50:30</td>\n",
              "      <td>587.373125</td>\n",
              "      <td>33.8575</td>\n",
              "      <td>2019-06-03 16:51:00</td>\n",
              "      <td>614.130000</td>\n",
              "      <td>34.82000</td>\n",
              "      <td>2019-06-03 16:51:30</td>\n",
              "      <td>644.124063</td>\n",
              "      <td>33.71875</td>\n",
              "      <td>2019-06-03 16:52:00</td>\n",
              "      <td>700.875000</td>\n",
              "      <td>33.580000</td>\n",
              "      <td>2019-06-03 16:52:30</td>\n",
              "      <td>672.604531</td>\n",
              "      <td>33.359375</td>\n",
              "      <td>2019-06-03 16:53:00</td>\n",
              "      <td>701.085000</td>\n",
              "      <td>33.000000</td>\n",
              "      <td>2019-06-03 16:53:30</td>\n",
              "      <td>702.992266</td>\n",
              "      <td>32.839687</td>\n",
              "    </tr>\n",
              "    <tr>\n",
              "      <th>17428</th>\n",
              "      <td>2019-06-03 16:49:30</td>\n",
              "      <td>560.61625</td>\n",
              "      <td>32.895</td>\n",
              "      <td>2019-06-03 16:50:00</td>\n",
              "      <td>528.55000</td>\n",
              "      <td>32.140</td>\n",
              "      <td>2019-06-03 16:50:30</td>\n",
              "      <td>587.373125</td>\n",
              "      <td>33.8575</td>\n",
              "      <td>2019-06-03 16:51:00</td>\n",
              "      <td>614.130000</td>\n",
              "      <td>34.8200</td>\n",
              "      <td>2019-06-03 16:51:30</td>\n",
              "      <td>644.124063</td>\n",
              "      <td>33.71875</td>\n",
              "      <td>2019-06-03 16:52:00</td>\n",
              "      <td>700.875000</td>\n",
              "      <td>33.58000</td>\n",
              "      <td>2019-06-03 16:52:30</td>\n",
              "      <td>672.604531</td>\n",
              "      <td>33.359375</td>\n",
              "      <td>2019-06-03 16:53:00</td>\n",
              "      <td>701.085000</td>\n",
              "      <td>33.000000</td>\n",
              "      <td>2019-06-03 16:53:30</td>\n",
              "      <td>702.992266</td>\n",
              "      <td>32.839687</td>\n",
              "      <td>2019-06-03 16:54:00</td>\n",
              "      <td>733.380000</td>\n",
              "      <td>32.320000</td>\n",
              "    </tr>\n",
              "    <tr>\n",
              "      <th>...</th>\n",
              "      <td>...</td>\n",
              "      <td>...</td>\n",
              "      <td>...</td>\n",
              "      <td>...</td>\n",
              "      <td>...</td>\n",
              "      <td>...</td>\n",
              "      <td>...</td>\n",
              "      <td>...</td>\n",
              "      <td>...</td>\n",
              "      <td>...</td>\n",
              "      <td>...</td>\n",
              "      <td>...</td>\n",
              "      <td>...</td>\n",
              "      <td>...</td>\n",
              "      <td>...</td>\n",
              "      <td>...</td>\n",
              "      <td>...</td>\n",
              "      <td>...</td>\n",
              "      <td>...</td>\n",
              "      <td>...</td>\n",
              "      <td>...</td>\n",
              "      <td>...</td>\n",
              "      <td>...</td>\n",
              "      <td>...</td>\n",
              "      <td>...</td>\n",
              "      <td>...</td>\n",
              "      <td>...</td>\n",
              "      <td>...</td>\n",
              "      <td>...</td>\n",
              "      <td>...</td>\n",
              "    </tr>\n",
              "    <tr>\n",
              "      <th>10338</th>\n",
              "      <td>2019-06-17 22:57:00</td>\n",
              "      <td>741.59000</td>\n",
              "      <td>33.290</td>\n",
              "      <td>2019-06-17 22:57:30</td>\n",
              "      <td>742.17000</td>\n",
              "      <td>32.730</td>\n",
              "      <td>2019-06-17 22:58:00</td>\n",
              "      <td>741.330000</td>\n",
              "      <td>32.5500</td>\n",
              "      <td>2019-06-17 22:58:30</td>\n",
              "      <td>742.230000</td>\n",
              "      <td>32.6100</td>\n",
              "      <td>2019-06-17 22:59:00</td>\n",
              "      <td>742.700000</td>\n",
              "      <td>32.94000</td>\n",
              "      <td>2019-06-17 22:59:30</td>\n",
              "      <td>742.120000</td>\n",
              "      <td>32.85000</td>\n",
              "      <td>2019-06-17 23:00:00</td>\n",
              "      <td>741.060000</td>\n",
              "      <td>32.940000</td>\n",
              "      <td>2019-06-17 23:00:30</td>\n",
              "      <td>741.540000</td>\n",
              "      <td>33.190000</td>\n",
              "      <td>2019-06-17 23:01:00</td>\n",
              "      <td>741.650000</td>\n",
              "      <td>33.230000</td>\n",
              "      <td>2019-06-17 23:01:30</td>\n",
              "      <td>742.170000</td>\n",
              "      <td>33.190000</td>\n",
              "    </tr>\n",
              "    <tr>\n",
              "      <th>10339</th>\n",
              "      <td>2019-06-17 22:57:30</td>\n",
              "      <td>742.17000</td>\n",
              "      <td>32.730</td>\n",
              "      <td>2019-06-17 22:58:00</td>\n",
              "      <td>741.33000</td>\n",
              "      <td>32.550</td>\n",
              "      <td>2019-06-17 22:58:30</td>\n",
              "      <td>742.230000</td>\n",
              "      <td>32.6100</td>\n",
              "      <td>2019-06-17 22:59:00</td>\n",
              "      <td>742.700000</td>\n",
              "      <td>32.9400</td>\n",
              "      <td>2019-06-17 22:59:30</td>\n",
              "      <td>742.120000</td>\n",
              "      <td>32.85000</td>\n",
              "      <td>2019-06-17 23:00:00</td>\n",
              "      <td>741.060000</td>\n",
              "      <td>32.94000</td>\n",
              "      <td>2019-06-17 23:00:30</td>\n",
              "      <td>741.540000</td>\n",
              "      <td>33.190000</td>\n",
              "      <td>2019-06-17 23:01:00</td>\n",
              "      <td>741.650000</td>\n",
              "      <td>33.230000</td>\n",
              "      <td>2019-06-17 23:01:30</td>\n",
              "      <td>742.170000</td>\n",
              "      <td>33.190000</td>\n",
              "      <td>2019-06-17 23:02:00</td>\n",
              "      <td>745.080000</td>\n",
              "      <td>31.490000</td>\n",
              "    </tr>\n",
              "    <tr>\n",
              "      <th>10340</th>\n",
              "      <td>2019-06-17 22:58:00</td>\n",
              "      <td>741.33000</td>\n",
              "      <td>32.550</td>\n",
              "      <td>2019-06-17 22:58:30</td>\n",
              "      <td>742.23000</td>\n",
              "      <td>32.610</td>\n",
              "      <td>2019-06-17 22:59:00</td>\n",
              "      <td>742.700000</td>\n",
              "      <td>32.9400</td>\n",
              "      <td>2019-06-17 22:59:30</td>\n",
              "      <td>742.120000</td>\n",
              "      <td>32.8500</td>\n",
              "      <td>2019-06-17 23:00:00</td>\n",
              "      <td>741.060000</td>\n",
              "      <td>32.94000</td>\n",
              "      <td>2019-06-17 23:00:30</td>\n",
              "      <td>741.540000</td>\n",
              "      <td>33.19000</td>\n",
              "      <td>2019-06-17 23:01:00</td>\n",
              "      <td>741.650000</td>\n",
              "      <td>33.230000</td>\n",
              "      <td>2019-06-17 23:01:30</td>\n",
              "      <td>742.170000</td>\n",
              "      <td>33.190000</td>\n",
              "      <td>2019-06-17 23:02:00</td>\n",
              "      <td>745.080000</td>\n",
              "      <td>31.490000</td>\n",
              "      <td>2019-06-17 23:02:30</td>\n",
              "      <td>741.860000</td>\n",
              "      <td>30.990000</td>\n",
              "    </tr>\n",
              "    <tr>\n",
              "      <th>10341</th>\n",
              "      <td>2019-06-17 22:58:30</td>\n",
              "      <td>742.23000</td>\n",
              "      <td>32.610</td>\n",
              "      <td>2019-06-17 22:59:00</td>\n",
              "      <td>742.70000</td>\n",
              "      <td>32.940</td>\n",
              "      <td>2019-06-17 22:59:30</td>\n",
              "      <td>742.120000</td>\n",
              "      <td>32.8500</td>\n",
              "      <td>2019-06-17 23:00:00</td>\n",
              "      <td>741.060000</td>\n",
              "      <td>32.9400</td>\n",
              "      <td>2019-06-17 23:00:30</td>\n",
              "      <td>741.540000</td>\n",
              "      <td>33.19000</td>\n",
              "      <td>2019-06-17 23:01:00</td>\n",
              "      <td>741.650000</td>\n",
              "      <td>33.23000</td>\n",
              "      <td>2019-06-17 23:01:30</td>\n",
              "      <td>742.170000</td>\n",
              "      <td>33.190000</td>\n",
              "      <td>2019-06-17 23:02:00</td>\n",
              "      <td>745.080000</td>\n",
              "      <td>31.490000</td>\n",
              "      <td>2019-06-17 23:02:30</td>\n",
              "      <td>741.860000</td>\n",
              "      <td>30.990000</td>\n",
              "      <td>2019-06-17 23:03:00</td>\n",
              "      <td>653.672500</td>\n",
              "      <td>32.157500</td>\n",
              "    </tr>\n",
              "    <tr>\n",
              "      <th>10342</th>\n",
              "      <td>2019-06-17 22:59:00</td>\n",
              "      <td>742.70000</td>\n",
              "      <td>32.940</td>\n",
              "      <td>2019-06-17 22:59:30</td>\n",
              "      <td>742.12000</td>\n",
              "      <td>32.850</td>\n",
              "      <td>2019-06-17 23:00:00</td>\n",
              "      <td>741.060000</td>\n",
              "      <td>32.9400</td>\n",
              "      <td>2019-06-17 23:00:30</td>\n",
              "      <td>741.540000</td>\n",
              "      <td>33.1900</td>\n",
              "      <td>2019-06-17 23:01:00</td>\n",
              "      <td>741.650000</td>\n",
              "      <td>33.23000</td>\n",
              "      <td>2019-06-17 23:01:30</td>\n",
              "      <td>742.170000</td>\n",
              "      <td>33.19000</td>\n",
              "      <td>2019-06-17 23:02:00</td>\n",
              "      <td>745.080000</td>\n",
              "      <td>31.490000</td>\n",
              "      <td>2019-06-17 23:02:30</td>\n",
              "      <td>741.860000</td>\n",
              "      <td>30.990000</td>\n",
              "      <td>2019-06-17 23:03:00</td>\n",
              "      <td>653.672500</td>\n",
              "      <td>32.157500</td>\n",
              "      <td>2019-06-17 23:04:00</td>\n",
              "      <td>620.341250</td>\n",
              "      <td>33.048750</td>\n",
              "    </tr>\n",
              "  </tbody>\n",
              "</table>\n",
              "<p>15118 rows × 30 columns</p>\n",
              "</div>"
            ],
            "text/plain": [
              "      separator_speed_rpm_pv_column_0  mill_dp_mbar_pv_column_1  \\\n",
              "0                 2019-06-03 16:47:00                 700.98000   \n",
              "17426             2019-06-03 16:47:30                 656.81500   \n",
              "1                 2019-06-03 16:48:00                 612.65000   \n",
              "17427             2019-06-03 16:48:30                 592.68250   \n",
              "17428             2019-06-03 16:49:30                 560.61625   \n",
              "...                               ...                       ...   \n",
              "10338             2019-06-17 22:57:00                 741.59000   \n",
              "10339             2019-06-17 22:57:30                 742.17000   \n",
              "10340             2019-06-17 22:58:00                 741.33000   \n",
              "10341             2019-06-17 22:58:30                 742.23000   \n",
              "10342             2019-06-17 22:59:00                 742.70000   \n",
              "\n",
              "       separator_speed_rpm_pv_column_2 mill_dp_mbar_pv_column_3  \\\n",
              "0                               33.815      2019-06-03 16:47:30   \n",
              "17426                           35.160      2019-06-03 16:48:00   \n",
              "1                               36.505      2019-06-03 16:48:30   \n",
              "17427                           33.650      2019-06-03 16:49:30   \n",
              "17428                           32.895      2019-06-03 16:50:00   \n",
              "...                                ...                      ...   \n",
              "10338                           33.290      2019-06-17 22:57:30   \n",
              "10339                           32.730      2019-06-17 22:58:00   \n",
              "10340                           32.550      2019-06-17 22:58:30   \n",
              "10341                           32.610      2019-06-17 22:59:00   \n",
              "10342                           32.940      2019-06-17 22:59:30   \n",
              "\n",
              "       separator_speed_rpm_pv_column_4  mill_dp_mbar_pv_column_5  \\\n",
              "0                            656.81500                    35.160   \n",
              "17426                        612.65000                    36.505   \n",
              "1                            592.68250                    33.650   \n",
              "17427                        560.61625                    32.895   \n",
              "17428                        528.55000                    32.140   \n",
              "...                                ...                       ...   \n",
              "10338                        742.17000                    32.730   \n",
              "10339                        741.33000                    32.550   \n",
              "10340                        742.23000                    32.610   \n",
              "10341                        742.70000                    32.940   \n",
              "10342                        742.12000                    32.850   \n",
              "\n",
              "      separator_speed_rpm_pv_column_6  mill_dp_mbar_pv_column_7  \\\n",
              "0                 2019-06-03 16:48:00                612.650000   \n",
              "17426             2019-06-03 16:48:30                592.682500   \n",
              "1                 2019-06-03 16:49:30                560.616250   \n",
              "17427             2019-06-03 16:50:00                528.550000   \n",
              "17428             2019-06-03 16:50:30                587.373125   \n",
              "...                               ...                       ...   \n",
              "10338             2019-06-17 22:58:00                741.330000   \n",
              "10339             2019-06-17 22:58:30                742.230000   \n",
              "10340             2019-06-17 22:59:00                742.700000   \n",
              "10341             2019-06-17 22:59:30                742.120000   \n",
              "10342             2019-06-17 23:00:00                741.060000   \n",
              "\n",
              "       separator_speed_rpm_pv_column_8 mill_dp_mbar_pv_column_9  \\\n",
              "0                              36.5050      2019-06-03 16:48:30   \n",
              "17426                          33.6500      2019-06-03 16:49:30   \n",
              "1                              32.8950      2019-06-03 16:50:00   \n",
              "17427                          32.1400      2019-06-03 16:50:30   \n",
              "17428                          33.8575      2019-06-03 16:51:00   \n",
              "...                                ...                      ...   \n",
              "10338                          32.5500      2019-06-17 22:58:30   \n",
              "10339                          32.6100      2019-06-17 22:59:00   \n",
              "10340                          32.9400      2019-06-17 22:59:30   \n",
              "10341                          32.8500      2019-06-17 23:00:00   \n",
              "10342                          32.9400      2019-06-17 23:00:30   \n",
              "\n",
              "       separator_speed_rpm_pv_column_10  mill_dp_mbar_pv_column_11  \\\n",
              "0                            592.682500                    33.6500   \n",
              "17426                        560.616250                    32.8950   \n",
              "1                            528.550000                    32.1400   \n",
              "17427                        587.373125                    33.8575   \n",
              "17428                        614.130000                    34.8200   \n",
              "...                                 ...                        ...   \n",
              "10338                        742.230000                    32.6100   \n",
              "10339                        742.700000                    32.9400   \n",
              "10340                        742.120000                    32.8500   \n",
              "10341                        741.060000                    32.9400   \n",
              "10342                        741.540000                    33.1900   \n",
              "\n",
              "      separator_speed_rpm_pv_column_12  mill_dp_mbar_pv_column_13  \\\n",
              "0                  2019-06-03 16:49:30                 560.616250   \n",
              "17426              2019-06-03 16:50:00                 528.550000   \n",
              "1                  2019-06-03 16:50:30                 587.373125   \n",
              "17427              2019-06-03 16:51:00                 614.130000   \n",
              "17428              2019-06-03 16:51:30                 644.124063   \n",
              "...                                ...                        ...   \n",
              "10338              2019-06-17 22:59:00                 742.700000   \n",
              "10339              2019-06-17 22:59:30                 742.120000   \n",
              "10340              2019-06-17 23:00:00                 741.060000   \n",
              "10341              2019-06-17 23:00:30                 741.540000   \n",
              "10342              2019-06-17 23:01:00                 741.650000   \n",
              "\n",
              "       separator_speed_rpm_pv_column_14 mill_dp_mbar_pv_column_15  \\\n",
              "0                              32.89500       2019-06-03 16:50:00   \n",
              "17426                          32.14000       2019-06-03 16:50:30   \n",
              "1                              33.85750       2019-06-03 16:51:00   \n",
              "17427                          34.82000       2019-06-03 16:51:30   \n",
              "17428                          33.71875       2019-06-03 16:52:00   \n",
              "...                                 ...                       ...   \n",
              "10338                          32.94000       2019-06-17 22:59:30   \n",
              "10339                          32.85000       2019-06-17 23:00:00   \n",
              "10340                          32.94000       2019-06-17 23:00:30   \n",
              "10341                          33.19000       2019-06-17 23:01:00   \n",
              "10342                          33.23000       2019-06-17 23:01:30   \n",
              "\n",
              "       separator_speed_rpm_pv_column_16  mill_dp_mbar_pv_column_17  \\\n",
              "0                            528.550000                   32.14000   \n",
              "17426                        587.373125                   33.85750   \n",
              "1                            614.130000                   34.82000   \n",
              "17427                        644.124063                   33.71875   \n",
              "17428                        700.875000                   33.58000   \n",
              "...                                 ...                        ...   \n",
              "10338                        742.120000                   32.85000   \n",
              "10339                        741.060000                   32.94000   \n",
              "10340                        741.540000                   33.19000   \n",
              "10341                        741.650000                   33.23000   \n",
              "10342                        742.170000                   33.19000   \n",
              "\n",
              "      separator_speed_rpm_pv_column_18  mill_dp_mbar_pv_column_19  \\\n",
              "0                  2019-06-03 16:50:30                 587.373125   \n",
              "17426              2019-06-03 16:51:00                 614.130000   \n",
              "1                  2019-06-03 16:51:30                 644.124063   \n",
              "17427              2019-06-03 16:52:00                 700.875000   \n",
              "17428              2019-06-03 16:52:30                 672.604531   \n",
              "...                                ...                        ...   \n",
              "10338              2019-06-17 23:00:00                 741.060000   \n",
              "10339              2019-06-17 23:00:30                 741.540000   \n",
              "10340              2019-06-17 23:01:00                 741.650000   \n",
              "10341              2019-06-17 23:01:30                 742.170000   \n",
              "10342              2019-06-17 23:02:00                 745.080000   \n",
              "\n",
              "       separator_speed_rpm_pv_column_20 mill_dp_mbar_pv_column_21  \\\n",
              "0                             33.857500       2019-06-03 16:51:00   \n",
              "17426                         34.820000       2019-06-03 16:51:30   \n",
              "1                             33.718750       2019-06-03 16:52:00   \n",
              "17427                         33.580000       2019-06-03 16:52:30   \n",
              "17428                         33.359375       2019-06-03 16:53:00   \n",
              "...                                 ...                       ...   \n",
              "10338                         32.940000       2019-06-17 23:00:30   \n",
              "10339                         33.190000       2019-06-17 23:01:00   \n",
              "10340                         33.230000       2019-06-17 23:01:30   \n",
              "10341                         33.190000       2019-06-17 23:02:00   \n",
              "10342                         31.490000       2019-06-17 23:02:30   \n",
              "\n",
              "       separator_speed_rpm_pv_column_22  mill_dp_mbar_pv_column_23  \\\n",
              "0                            614.130000                  34.820000   \n",
              "17426                        644.124063                  33.718750   \n",
              "1                            700.875000                  33.580000   \n",
              "17427                        672.604531                  33.359375   \n",
              "17428                        701.085000                  33.000000   \n",
              "...                                 ...                        ...   \n",
              "10338                        741.540000                  33.190000   \n",
              "10339                        741.650000                  33.230000   \n",
              "10340                        742.170000                  33.190000   \n",
              "10341                        745.080000                  31.490000   \n",
              "10342                        741.860000                  30.990000   \n",
              "\n",
              "      separator_speed_rpm_pv_column_24  mill_dp_mbar_pv_column_25  \\\n",
              "0                  2019-06-03 16:51:30                 644.124063   \n",
              "17426              2019-06-03 16:52:00                 700.875000   \n",
              "1                  2019-06-03 16:52:30                 672.604531   \n",
              "17427              2019-06-03 16:53:00                 701.085000   \n",
              "17428              2019-06-03 16:53:30                 702.992266   \n",
              "...                                ...                        ...   \n",
              "10338              2019-06-17 23:01:00                 741.650000   \n",
              "10339              2019-06-17 23:01:30                 742.170000   \n",
              "10340              2019-06-17 23:02:00                 745.080000   \n",
              "10341              2019-06-17 23:02:30                 741.860000   \n",
              "10342              2019-06-17 23:03:00                 653.672500   \n",
              "\n",
              "       separator_speed_rpm_pv_column_26 mill_dp_mbar_pv_column_27  \\\n",
              "0                             33.718750       2019-06-03 16:52:00   \n",
              "17426                         33.580000       2019-06-03 16:52:30   \n",
              "1                             33.359375       2019-06-03 16:53:00   \n",
              "17427                         33.000000       2019-06-03 16:53:30   \n",
              "17428                         32.839687       2019-06-03 16:54:00   \n",
              "...                                 ...                       ...   \n",
              "10338                         33.230000       2019-06-17 23:01:30   \n",
              "10339                         33.190000       2019-06-17 23:02:00   \n",
              "10340                         31.490000       2019-06-17 23:02:30   \n",
              "10341                         30.990000       2019-06-17 23:03:00   \n",
              "10342                         32.157500       2019-06-17 23:04:00   \n",
              "\n",
              "       separator_speed_rpm_pv_column_28  mill_dp_mbar_pv_column_29  \n",
              "0                            700.875000                  33.580000  \n",
              "17426                        672.604531                  33.359375  \n",
              "1                            701.085000                  33.000000  \n",
              "17427                        702.992266                  32.839687  \n",
              "17428                        733.380000                  32.320000  \n",
              "...                                 ...                        ...  \n",
              "10338                        742.170000                  33.190000  \n",
              "10339                        745.080000                  31.490000  \n",
              "10340                        741.860000                  30.990000  \n",
              "10341                        653.672500                  32.157500  \n",
              "10342                        620.341250                  33.048750  \n",
              "\n",
              "[15118 rows x 30 columns]"
            ]
          },
          "execution_count": 36,
          "metadata": {},
          "output_type": "execute_result"
        }
      ],
      "source": [
        "x_train"
      ]
    },
    {
      "cell_type": "code",
      "execution_count": 37,
      "metadata": {},
      "outputs": [
        {
          "data": {
            "text/html": [
              "<div>\n",
              "<style scoped>\n",
              "    .dataframe tbody tr th:only-of-type {\n",
              "        vertical-align: middle;\n",
              "    }\n",
              "\n",
              "    .dataframe tbody tr th {\n",
              "        vertical-align: top;\n",
              "    }\n",
              "\n",
              "    .dataframe thead th {\n",
              "        text-align: right;\n",
              "    }\n",
              "</style>\n",
              "<table border=\"1\" class=\"dataframe\">\n",
              "  <thead>\n",
              "    <tr style=\"text-align: right;\">\n",
              "      <th></th>\n",
              "      <th>separator_pwr_kw_pv</th>\n",
              "      <th>separator_pwr_kw_pv</th>\n",
              "      <th>separator_pwr_kw_pv</th>\n",
              "      <th>separator_pwr_kw_pv</th>\n",
              "      <th>separator_pwr_kw_pv</th>\n",
              "    </tr>\n",
              "  </thead>\n",
              "  <tbody>\n",
              "    <tr>\n",
              "      <th>0</th>\n",
              "      <td>55.925781</td>\n",
              "      <td>55.420000</td>\n",
              "      <td>55.735391</td>\n",
              "      <td>55.545000</td>\n",
              "      <td>55.737695</td>\n",
              "    </tr>\n",
              "    <tr>\n",
              "      <th>17426</th>\n",
              "      <td>55.420000</td>\n",
              "      <td>55.735391</td>\n",
              "      <td>55.545000</td>\n",
              "      <td>55.737695</td>\n",
              "      <td>55.740000</td>\n",
              "    </tr>\n",
              "    <tr>\n",
              "      <th>1</th>\n",
              "      <td>55.735391</td>\n",
              "      <td>55.545000</td>\n",
              "      <td>55.737695</td>\n",
              "      <td>55.740000</td>\n",
              "      <td>56.008848</td>\n",
              "    </tr>\n",
              "    <tr>\n",
              "      <th>17427</th>\n",
              "      <td>55.545000</td>\n",
              "      <td>55.737695</td>\n",
              "      <td>55.740000</td>\n",
              "      <td>56.008848</td>\n",
              "      <td>56.280000</td>\n",
              "    </tr>\n",
              "    <tr>\n",
              "      <th>17428</th>\n",
              "      <td>55.737695</td>\n",
              "      <td>55.740000</td>\n",
              "      <td>56.008848</td>\n",
              "      <td>56.280000</td>\n",
              "      <td>56.059424</td>\n",
              "    </tr>\n",
              "    <tr>\n",
              "      <th>...</th>\n",
              "      <td>...</td>\n",
              "      <td>...</td>\n",
              "      <td>...</td>\n",
              "      <td>...</td>\n",
              "      <td>...</td>\n",
              "    </tr>\n",
              "    <tr>\n",
              "      <th>10338</th>\n",
              "      <td>56.810000</td>\n",
              "      <td>57.010000</td>\n",
              "      <td>57.025000</td>\n",
              "      <td>57.477500</td>\n",
              "      <td>57.703750</td>\n",
              "    </tr>\n",
              "    <tr>\n",
              "      <th>10339</th>\n",
              "      <td>57.010000</td>\n",
              "      <td>57.025000</td>\n",
              "      <td>57.477500</td>\n",
              "      <td>57.703750</td>\n",
              "      <td>57.816875</td>\n",
              "    </tr>\n",
              "    <tr>\n",
              "      <th>10340</th>\n",
              "      <td>57.025000</td>\n",
              "      <td>57.477500</td>\n",
              "      <td>57.703750</td>\n",
              "      <td>57.816875</td>\n",
              "      <td>57.873438</td>\n",
              "    </tr>\n",
              "    <tr>\n",
              "      <th>10341</th>\n",
              "      <td>57.477500</td>\n",
              "      <td>57.703750</td>\n",
              "      <td>57.816875</td>\n",
              "      <td>57.873438</td>\n",
              "      <td>57.901719</td>\n",
              "    </tr>\n",
              "    <tr>\n",
              "      <th>10342</th>\n",
              "      <td>57.703750</td>\n",
              "      <td>57.816875</td>\n",
              "      <td>57.873438</td>\n",
              "      <td>57.901719</td>\n",
              "      <td>57.915859</td>\n",
              "    </tr>\n",
              "  </tbody>\n",
              "</table>\n",
              "<p>15118 rows × 5 columns</p>\n",
              "</div>"
            ],
            "text/plain": [
              "       separator_pwr_kw_pv  separator_pwr_kw_pv  separator_pwr_kw_pv  \\\n",
              "0                55.925781            55.420000            55.735391   \n",
              "17426            55.420000            55.735391            55.545000   \n",
              "1                55.735391            55.545000            55.737695   \n",
              "17427            55.545000            55.737695            55.740000   \n",
              "17428            55.737695            55.740000            56.008848   \n",
              "...                    ...                  ...                  ...   \n",
              "10338            56.810000            57.010000            57.025000   \n",
              "10339            57.010000            57.025000            57.477500   \n",
              "10340            57.025000            57.477500            57.703750   \n",
              "10341            57.477500            57.703750            57.816875   \n",
              "10342            57.703750            57.816875            57.873438   \n",
              "\n",
              "       separator_pwr_kw_pv  separator_pwr_kw_pv  \n",
              "0                55.545000            55.737695  \n",
              "17426            55.737695            55.740000  \n",
              "1                55.740000            56.008848  \n",
              "17427            56.008848            56.280000  \n",
              "17428            56.280000            56.059424  \n",
              "...                    ...                  ...  \n",
              "10338            57.477500            57.703750  \n",
              "10339            57.703750            57.816875  \n",
              "10340            57.816875            57.873438  \n",
              "10341            57.873438            57.901719  \n",
              "10342            57.901719            57.915859  \n",
              "\n",
              "[15118 rows x 5 columns]"
            ]
          },
          "execution_count": 37,
          "metadata": {},
          "output_type": "execute_result"
        }
      ],
      "source": [
        "y_train"
      ]
    },
    {
      "cell_type": "code",
      "execution_count": 26,
      "metadata": {},
      "outputs": [
        {
          "ename": "SyntaxError",
          "evalue": "invalid syntax (1734130098.py, line 2)",
          "output_type": "error",
          "traceback": [
            "\u001b[1;36m  File \u001b[1;32m\"C:\\Users\\msi\\AppData\\Local\\Temp\\ipykernel_8032\\1734130098.py\"\u001b[1;36m, line \u001b[1;32m2\u001b[0m\n\u001b[1;33m    if(n)\u001b[0m\n\u001b[1;37m         ^\u001b[0m\n\u001b[1;31mSyntaxError\u001b[0m\u001b[1;31m:\u001b[0m invalid syntax\n"
          ]
        }
      ],
      "source": [
        "# stops the RUN All here\n",
        "if(n)"
      ]
    },
    {
      "cell_type": "code",
      "execution_count": null,
      "metadata": {},
      "outputs": [
        {
          "data": {
            "text/plain": [
              "<matplotlib.axes._subplots.AxesSubplot at 0x2571dfce8b0>"
            ]
          },
          "execution_count": 173,
          "metadata": {},
          "output_type": "execute_result"
        },
        {
          "data": {
            "image/png": "[encoded data removed]",
            "text/plain": [
              "<Figure size 432x288 with 1 Axes>"
            ]
          },
          "metadata": {
            "needs_background": "light"
          },
          "output_type": "display_data"
        }
      ],
      "source": [
        "x_train[1:].iloc[0].plot()\n"
      ]
    },
    {
      "cell_type": "code",
      "execution_count": null,
      "metadata": {},
      "outputs": [
        {
          "data": {
            "text/plain": [
              "<matplotlib.axes._subplots.AxesSubplot at 0x25706581790>"
            ]
          },
          "execution_count": 174,
          "metadata": {},
          "output_type": "execute_result"
        },
        {
          "data": {
            "image/png": "[encoded data removed]",
            "text/plain": [
              "<Figure size 432x288 with 1 Axes>"
            ]
          },
          "metadata": {
            "needs_background": "light"
          },
          "output_type": "display_data"
        }
      ],
      "source": [
        "y_train.iloc[0].plot()"
      ]
    },
    {
      "cell_type": "code",
      "execution_count": null,
      "metadata": {},
      "outputs": [
        {
          "data": {
            "text/html": [
              "<style>#sk-container-id-1 {color: black;background-color: white;}#sk-container-id-1 pre{padding: 0;}#sk-container-id-1 div.sk-toggleable {background-color: white;}#sk-container-id-1 label.sk-toggleable__label {cursor: pointer;display: block;width: 100%;margin-bottom: 0;padding: 0.3em;box-sizing: border-box;text-align: center;}#sk-container-id-1 label.sk-toggleable__label-arrow:before {content: \"▸\";float: left;margin-right: 0.25em;color: #696969;}#sk-container-id-1 label.sk-toggleable__label-arrow:hover:before {color: black;}#sk-container-id-1 div.sk-estimator:hover label.sk-toggleable__label-arrow:before {color: black;}#sk-container-id-1 div.sk-toggleable__content {max-height: 0;max-width: 0;overflow: hidden;text-align: left;background-color: #f0f8ff;}#sk-container-id-1 div.sk-toggleable__content pre {margin: 0.2em;color: black;border-radius: 0.25em;background-color: #f0f8ff;}#sk-container-id-1 input.sk-toggleable__control:checked~div.sk-toggleable__content {max-height: 200px;max-width: 100%;overflow: auto;}#sk-container-id-1 input.sk-toggleable__control:checked~label.sk-toggleable__label-arrow:before {content: \"▾\";}#sk-container-id-1 div.sk-estimator input.sk-toggleable__control:checked~label.sk-toggleable__label {background-color: #d4ebff;}#sk-container-id-1 div.sk-label input.sk-toggleable__control:checked~label.sk-toggleable__label {background-color: #d4ebff;}#sk-container-id-1 input.sk-hidden--visually {border: 0;clip: rect(1px 1px 1px 1px);clip: rect(1px, 1px, 1px, 1px);height: 1px;margin: -1px;overflow: hidden;padding: 0;position: absolute;width: 1px;}#sk-container-id-1 div.sk-estimator {font-family: monospace;background-color: #f0f8ff;border: 1px dotted black;border-radius: 0.25em;box-sizing: border-box;margin-bottom: 0.5em;}#sk-container-id-1 div.sk-estimator:hover {background-color: #d4ebff;}#sk-container-id-1 div.sk-parallel-item::after {content: \"\";width: 100%;border-bottom: 1px solid gray;flex-grow: 1;}#sk-container-id-1 div.sk-label:hover label.sk-toggleable__label {background-color: #d4ebff;}#sk-container-id-1 div.sk-serial::before {content: \"\";position: absolute;border-left: 1px solid gray;box-sizing: border-box;top: 0;bottom: 0;left: 50%;z-index: 0;}#sk-container-id-1 div.sk-serial {display: flex;flex-direction: column;align-items: center;background-color: white;padding-right: 0.2em;padding-left: 0.2em;position: relative;}#sk-container-id-1 div.sk-item {position: relative;z-index: 1;}#sk-container-id-1 div.sk-parallel {display: flex;align-items: stretch;justify-content: center;background-color: white;position: relative;}#sk-container-id-1 div.sk-item::before, #sk-container-id-1 div.sk-parallel-item::before {content: \"\";position: absolute;border-left: 1px solid gray;box-sizing: border-box;top: 0;bottom: 0;left: 50%;z-index: -1;}#sk-container-id-1 div.sk-parallel-item {display: flex;flex-direction: column;z-index: 1;position: relative;background-color: white;}#sk-container-id-1 div.sk-parallel-item:first-child::after {align-self: flex-end;width: 50%;}#sk-container-id-1 div.sk-parallel-item:last-child::after {align-self: flex-start;width: 50%;}#sk-container-id-1 div.sk-parallel-item:only-child::after {width: 0;}#sk-container-id-1 div.sk-dashed-wrapped {border: 1px dashed gray;margin: 0 0.4em 0.5em 0.4em;box-sizing: border-box;padding-bottom: 0.4em;background-color: white;}#sk-container-id-1 div.sk-label label {font-family: monospace;font-weight: bold;display: inline-block;line-height: 1.2em;}#sk-container-id-1 div.sk-label-container {text-align: center;}#sk-container-id-1 div.sk-container {/* jupyter's `normalize.less` sets `[hidden] { display: none; }` but bootstrap.min.css set `[hidden] { display: none !important; }` so we also need the `!important` here to be able to override the default hidden behavior on the sphinx rendered scikit-learn.org. See: https://github.com/scikit-learn/scikit-learn/issues/21755 */display: inline-block !important;position: relative;}#sk-container-id-1 div.sk-text-repr-fallback {display: none;}</style><div id=\"sk-container-id-1\" class=\"sk-top-container\"><div class=\"sk-text-repr-fallback\"><pre>LinearRegression()</pre><b>In a Jupyter environment, please rerun this cell to show the HTML representation or trust the notebook. <br />On GitHub, the HTML representation is unable to render, please try loading this page with nbviewer.org.</b></div><div class=\"sk-container\" hidden><div class=\"sk-item\"><div class=\"sk-estimator sk-toggleable\"><input class=\"sk-toggleable__control sk-hidden--visually\" id=\"sk-estimator-id-1\" type=\"checkbox\" checked><label for=\"sk-estimator-id-1\" class=\"sk-toggleable__label sk-toggleable__label-arrow\">LinearRegression</label><div class=\"sk-toggleable__content\"><pre>LinearRegression()</pre></div></div></div></div></div>"
            ],
            "text/plain": [
              "LinearRegression()"
            ]
          },
          "execution_count": 175,
          "metadata": {},
          "output_type": "execute_result"
        }
      ],
      "source": [
        "from sklearn.linear_model import LinearRegression\n",
        "\n",
        "lr = LinearRegression()\n",
        "\n",
        "lr.fit(x_train, y_train)"
      ]
    },
    {
      "cell_type": "code",
      "execution_count": null,
      "metadata": {},
      "outputs": [],
      "source": [
        "preds = lr.predict(y_train)"
      ]
    },
    {
      "cell_type": "code",
      "execution_count": null,
      "metadata": {
        "id": "-1YD0auh2G7E",
        "scrolled": true
      },
      "outputs": [],
      "source": [
        "june_first = june_first[june_first['cement_type_cpii_bool_pv']==1.0]\n",
        "june_first.drop(['cement_type_cpii_bool_pv'], axis=1, inplace=True)\n",
        "june_first"
      ]
    },
    {
      "cell_type": "code",
      "execution_count": null,
      "metadata": {
        "id": "AgqPX5Dz81KP"
      },
      "outputs": [],
      "source": [
        "june"
      ]
    },
    {
      "cell_type": "code",
      "execution_count": null,
      "metadata": {
        "id": "vvbalGh32G7F"
      },
      "outputs": [],
      "source": [
        "feature_keys = [\n",
        "    \"separator_speed_rpm_pv\",\n",
        "    \"mill_dp_mbar_pv\",\n",
        "    \"separator_pwr_kw_pv\"\n",
        "]\n",
        "\n",
        "titles = feature_keys\n",
        "\n",
        "date_time_key = \"date\"\n",
        "colors = [\"red\", \"green\", \"blue\", \"grey\"]\n",
        "def show_raw_visualization(data):\n",
        "    time_data = data[date_time_key]\n",
        "    fig, axes = plt.subplots(\n",
        "        nrows=2, ncols=2, figsize=(15, 20), dpi=80, facecolor=\"w\", edgecolor=\"k\"\n",
        "    )\n",
        "    for i in range(len(feature_keys)):\n",
        "        key = feature_keys[i]\n",
        "        c = colors[i % (len(colors))]\n",
        "        t_data = data[key]\n",
        "        t_data.index = time_data\n",
        "        t_data.head()\n",
        "        ax = t_data.plot(\n",
        "            ax=axes[i // 2, i % 2],\n",
        "            color=c,\n",
        "            title=\"{} - {}\".format(titles[i], key),\n",
        "            rot=25,\n",
        "        )\n",
        "        ax.legend([titles[i]])\n",
        "    plt.tight_layout()\n",
        "\n",
        "\n",
        "show_raw_visualization(june_first)"
      ]
    },
    {
      "cell_type": "code",
      "execution_count": null,
      "metadata": {
        "id": "MKrZH6eM2G7F"
      },
      "outputs": [],
      "source": [
        "def show_heatmap(data):\n",
        "    plt.matshow(data.corr())\n",
        "    plt.xticks(range(data.shape[1]), data.columns, fontsize=14, rotation=90)\n",
        "    plt.gca().xaxis.tick_bottom()\n",
        "    plt.yticks(range(data.shape[1]), data.columns, fontsize=14)\n",
        "\n",
        "    cb = plt.colorbar()\n",
        "    cb.ax.tick_params(labelsize=14)\n",
        "    plt.title(\"Feature Correlation Heatmap\", fontsize=14)\n",
        "    plt.show()\n",
        "\n",
        "\n",
        "show_heatmap(june_first)"
      ]
    },
    {
      "attachments": {},
      "cell_type": "markdown",
      "metadata": {
        "id": "HcM8xTrq2G7F"
      },
      "source": [
        "### RNN (new)"
      ]
    },
    {
      "cell_type": "code",
      "execution_count": null,
      "metadata": {
        "id": "dqAOdYzR2G7H"
      },
      "outputs": [],
      "source": [
        "features = june_first.drop(['date'], axis=1)\n",
        "features.index = june_first[date_time_key]\n",
        "\n",
        "split_fraction = 0.715\n",
        "train_split = int(split_fraction * int(june_first.shape[0]))\n",
        "step = 1\n",
        "\n",
        "past = 20\n",
        "future = 10 #after 10 timestamps\n",
        "learning_rate = 0.001\n",
        "batch_size = 256\n",
        "epochs = 10\n",
        "\n",
        "\n",
        "def normalize(data, train_split):\n",
        "    data_mean = data[:train_split].mean(axis=0)\n",
        "    data_std = data[:train_split].std(axis=0)\n",
        "    return (data - data_mean) / data_std\n"
      ]
    },
    {
      "cell_type": "code",
      "execution_count": null,
      "metadata": {
        "id": "m3hi6dgJ2G7H"
      },
      "outputs": [],
      "source": [
        "features = normalize(features.values, train_split)\n",
        "features = pd.DataFrame(features)\n",
        "\n",
        "train_data = features.loc[0 : train_split - 1]\n",
        "val_data = features.loc[train_split:]"
      ]
    },
    {
      "cell_type": "code",
      "execution_count": null,
      "metadata": {
        "id": "Z8G56GfT2G7H"
      },
      "outputs": [],
      "source": [
        "start = past + future\n",
        "end = start + train_split\n",
        "\n",
        "x_train = train_data[[i for i in range(3)]].values\n",
        "y_train = features.iloc[start:end][[2]]\n",
        "\n",
        "sequence_length = int(past / step)"
      ]
    },
    {
      "cell_type": "code",
      "execution_count": null,
      "metadata": {
        "id": "2DSYK7lm2G7I"
      },
      "outputs": [
        {
          "ename": "NameError",
          "evalue": "name 'sequence_length' is not defined",
          "output_type": "error",
          "traceback": [
            "\u001b[1;31m---------------------------------------------------------------------------\u001b[0m",
            "\u001b[1;31mNameError\u001b[0m                                 Traceback (most recent call last)",
            "\u001b[1;32m~\\AppData\\Local\\Temp\\ipykernel_3208\\1508986058.py\u001b[0m in \u001b[0;36m<module>\u001b[1;34m\u001b[0m\n\u001b[0;32m      2\u001b[0m     \u001b[0mx_train\u001b[0m\u001b[1;33m,\u001b[0m\u001b[1;33m\u001b[0m\u001b[1;33m\u001b[0m\u001b[0m\n\u001b[0;32m      3\u001b[0m     \u001b[0my_train\u001b[0m\u001b[1;33m,\u001b[0m\u001b[1;33m\u001b[0m\u001b[1;33m\u001b[0m\u001b[0m\n\u001b[1;32m----> 4\u001b[1;33m     \u001b[0msequence_length\u001b[0m\u001b[1;33m=\u001b[0m\u001b[0msequence_length\u001b[0m\u001b[1;33m,\u001b[0m\u001b[1;33m\u001b[0m\u001b[1;33m\u001b[0m\u001b[0m\n\u001b[0m\u001b[0;32m      5\u001b[0m     \u001b[0msampling_rate\u001b[0m\u001b[1;33m=\u001b[0m\u001b[0mstep\u001b[0m\u001b[1;33m,\u001b[0m\u001b[1;33m\u001b[0m\u001b[1;33m\u001b[0m\u001b[0m\n\u001b[0;32m      6\u001b[0m     \u001b[0mbatch_size\u001b[0m\u001b[1;33m=\u001b[0m\u001b[0mbatch_size\u001b[0m\u001b[1;33m,\u001b[0m\u001b[1;33m\u001b[0m\u001b[1;33m\u001b[0m\u001b[0m\n",
            "\u001b[1;31mNameError\u001b[0m: name 'sequence_length' is not defined"
          ]
        }
      ],
      "source": [
        "dataset_train = keras.preprocessing.timeseries_dataset_from_array(\n",
        "    x_train,\n",
        "    y_train,\n",
        "    sequence_length=sequence_length,\n",
        "    sampling_rate=step,\n",
        "    batch_size=batch_size,\n",
        ")"
      ]
    },
    {
      "cell_type": "code",
      "execution_count": null,
      "metadata": {
        "id": "JdMYQH7R2G7I"
      },
      "outputs": [],
      "source": [
        "x_end = len(val_data) - past - future\n",
        "\n",
        "label_start = train_split + past + future\n",
        "\n",
        "x_val = val_data.iloc[:x_end][[i for i in range(3)]].values\n",
        "y_val = features.iloc[label_start:][[2]]\n",
        "\n",
        "dataset_val = keras.preprocessing.timeseries_dataset_from_array(\n",
        "    x_val,\n",
        "    y_val,\n",
        "    sequence_length=sequence_length,\n",
        "    sampling_rate=step,\n",
        "    batch_size=batch_size,\n",
        ")\n",
        "\n",
        "\n",
        "for batch in dataset_train.take(1):\n",
        "    inputs, targets = batch\n",
        "\n",
        "print(\"Input shape:\", inputs.numpy().shape)\n",
        "print(\"Target shape:\", targets.numpy().shape)"
      ]
    },
    {
      "cell_type": "code",
      "execution_count": null,
      "metadata": {
        "id": "LG43uH8e2G7J",
        "scrolled": true
      },
      "outputs": [],
      "source": [
        "inputs = keras.layers.Input(shape=(inputs.shape[1], inputs.shape[2]))\n",
        "lstm_out = keras.layers.LSTM(32)(inputs)\n",
        "outputs = keras.layers.Dense(1)(lstm_out)\n",
        "\n",
        "model = keras.Model(inputs=inputs, outputs=outputs)\n",
        "model.compile(optimizer=keras.optimizers.Adam(learning_rate=learning_rate), loss=\"mse\")\n",
        "model.summary()"
      ]
    },
    {
      "cell_type": "code",
      "execution_count": null,
      "metadata": {
        "id": "KToczSbK2G7J",
        "scrolled": true
      },
      "outputs": [],
      "source": [
        "path_checkpoint = \"model_checkpoint.h5\"\n",
        "es_callback = keras.callbacks.EarlyStopping(monitor=\"val_loss\", min_delta=0, patience=5)\n",
        "\n",
        "modelckpt_callback = keras.callbacks.ModelCheckpoint(\n",
        "    monitor=\"val_loss\",\n",
        "    filepath=path_checkpoint,\n",
        "    verbose=1,\n",
        "    save_weights_only=True,\n",
        "    save_best_only=True,\n",
        ")\n",
        "\n",
        "history = model.fit(\n",
        "    dataset_train,\n",
        "    epochs=epochs,\n",
        "    validation_data=dataset_val,\n",
        "    callbacks=[es_callback, modelckpt_callback],\n",
        ")"
      ]
    },
    {
      "cell_type": "code",
      "execution_count": null,
      "metadata": {
        "id": "yAgoSZDH2G7J",
        "scrolled": true
      },
      "outputs": [],
      "source": [
        "def visualize_loss(history, title):\n",
        "    loss = history.history[\"loss\"]\n",
        "    val_loss = history.history[\"val_loss\"]\n",
        "    epochs = range(len(loss))\n",
        "    plt.figure()\n",
        "    plt.plot(epochs, loss, \"b\", label=\"Training loss\")\n",
        "    plt.plot(epochs, val_loss, \"r\", label=\"Validation loss\")\n",
        "    plt.title(title)\n",
        "    plt.xlabel(\"Epochs\")\n",
        "    plt.ylabel(\"Loss\")\n",
        "    plt.legend()\n",
        "    plt.show()\n",
        "\n",
        "\n",
        "visualize_loss(history, \"Training and Validation Loss\")\n"
      ]
    },
    {
      "cell_type": "code",
      "execution_count": null,
      "metadata": {
        "id": "xHdGU5XF2G7K"
      },
      "outputs": [],
      "source": [
        "def show_plot(plot_data, delta, title):\n",
        "    labels = [\"History\", \"True Future\", \"Model Prediction\"]\n",
        "    marker = [\".-\", \"rx\", \"go\"]\n",
        "    time_steps = list(range(-(plot_data[0].shape[0]), 0))\n",
        "    if delta:\n",
        "        future = delta\n",
        "    else:\n",
        "        future = 0\n",
        "\n",
        "    plt.title(title)\n",
        "    for i, val in enumerate(plot_data):\n",
        "        if i:\n",
        "            plt.plot(future, plot_data[i], marker[i], markersize=10, label=labels[i])\n",
        "        else:\n",
        "            plt.plot(time_steps, plot_data[i].flatten(), marker[i], label=labels[i])\n",
        "    plt.legend()\n",
        "    plt.xlim([time_steps[0], (future + 5) * 2])\n",
        "    plt.xlabel(\"Time-Step\")\n",
        "    plt.show()\n",
        "    return\n",
        "\n",
        "\n",
        "for x, y in dataset_val.take(5):\n",
        "    show_plot(\n",
        "        [x[0][:, 1].numpy(), y[0].numpy(), model.predict(x)[0]],\n",
        "        12,\n",
        "        \"Single Step Prediction\",\n",
        "    )"
      ]
    },
    {
      "cell_type": "code",
      "execution_count": null,
      "metadata": {
        "id": "hZ40o3zH2G7K",
        "scrolled": true
      },
      "outputs": [],
      "source": [
        "correlation_matrix = june_first.corr()\n",
        "\n",
        "# Create a correlation heatmap using Seaborn\n",
        "plt.figure(figsize=(10, 8))\n",
        "sns.heatmap(correlation_matrix, annot=True, cmap='coolwarm')\n",
        "plt.title('Correlation Heatmap')\n",
        "plt.show()"
      ]
    },
    {
      "cell_type": "code",
      "execution_count": null,
      "metadata": {
        "id": "Ub3ugYf22G7K",
        "scrolled": true
      },
      "outputs": [],
      "source": [
        "shifted_df = june_first[['separator_speed_rpm_pv', 'mill_dp_mbar_pv']].shift(10)\n",
        "\n",
        "# Concatenate the shifted columns with the original dataframe\n",
        "shifted_df = pd.concat([june_first.drop(['separator_speed_rpm_pv', 'mill_dp_mbar_pv'] , axis=1), shifted_df], axis=1)\n",
        "\n",
        "# Drop rows with NaN values introduced by the shifting\n",
        "shifted_df = shifted_df.dropna()\n",
        "\n",
        "# Print the resulting dataframe with shifted columns\n",
        "print(shifted_df)"
      ]
    },
    {
      "cell_type": "code",
      "execution_count": null,
      "metadata": {
        "id": "VF54EoXu2G7K"
      },
      "outputs": [],
      "source": [
        "correlation_matrix = shifted_df.corr()\n",
        "\n",
        "# Create a correlation heatmap using Seaborn\n",
        "plt.figure(figsize=(10, 8))\n",
        "sns.heatmap(correlation_matrix, annot=True, cmap='coolwarm')\n",
        "plt.title('Correlation Heatmap')\n",
        "plt.show()"
      ]
    },
    {
      "cell_type": "code",
      "execution_count": null,
      "metadata": {
        "id": "ec1flQzKC7Lx"
      },
      "outputs": [],
      "source": [
        "columns = ['separator_speed_rpm_pv', 'mill_dp_mbar_pv', 'separator_pwr_kw_pv', 'cement_type_cpii_bool_pv']\n",
        "\n",
        "june_first = extractUsefulInfo(june,columns)\n",
        "june_first['date'] = june['date']"
      ]
    },
    {
      "cell_type": "code",
      "execution_count": null,
      "metadata": {
        "id": "yJtzqPGfI2cA"
      },
      "outputs": [],
      "source": [
        "july = df_list[2]\n",
        "july_first = extractUsefulInfo(july,columns)\n",
        "july_first"
      ]
    },
    {
      "cell_type": "code",
      "execution_count": null,
      "metadata": {
        "id": "qvTgXNHOK6-v"
      },
      "outputs": [],
      "source": [
        "q_low = 0.01\n",
        "q_hi = 0.99\n",
        "plots(june_first,'mill_dp_mbar_pv',q_low,q_hi)\n"
      ]
    },
    {
      "cell_type": "code",
      "execution_count": null,
      "metadata": {
        "id": "Rk360pT8LJGt"
      },
      "outputs": [],
      "source": [
        "q_low = 0.05\n",
        "q_hi = 0.95\n",
        "plots(june_first,'separator_pwr_kw_pv',q_low,q_hi)"
      ]
    },
    {
      "cell_type": "code",
      "execution_count": null,
      "metadata": {
        "id": "qmn370CzLMG_"
      },
      "outputs": [],
      "source": [
        "q_low = 0.05\n",
        "q_hi = 0.95\n",
        "plots(june_first,'separator_speed_rpm_pv',q_low,q_hi)"
      ]
    },
    {
      "cell_type": "code",
      "execution_count": null,
      "metadata": {
        "id": "LTcPLuWhRBra"
      },
      "outputs": [],
      "source": [
        "# Normalize data\n",
        "sc = StandardScaler()\n",
        "X = june_first[['mill_dp_mbar_pv', 'separator_pwr_kw_pv']]\n",
        "y = june_first['separator_speed_rpm_pv']\n",
        "X_test = july_first[['mill_dp_mbar_pv', 'separator_pwr_kw_pv']]\n",
        "y_test =  july_first['separator_speed_rpm_pv']\n",
        "\n",
        "X = sc.fit_transform(X)\n",
        "X_test= sc.transform(X_test)\n"
      ]
    },
    {
      "cell_type": "code",
      "execution_count": null,
      "metadata": {
        "id": "WeX5hAvGXnvg"
      },
      "outputs": [],
      "source": [
        "# Linear Regression\n",
        "model = LinearRegression()\n",
        "\n",
        "\n",
        "model.fit(X, y)\n",
        "\n",
        "predictions = model.predict(X_test)\n",
        "\n",
        "plt.scatter(y_test, predictions)\n",
        "plt.plot(np.linspace(0, np.max(y_test), 100), np.linspace(0, np.max(y_test), 100), color='red', linestyle='--')\n",
        "plt.xlabel('Actual Values (y_test)')\n",
        "plt.ylabel('Predicted Values')\n",
        "plt.title('Predicted vs Actual Values')\n",
        "plt.show()"
      ]
    },
    {
      "cell_type": "code",
      "execution_count": null,
      "metadata": {
        "id": "2E5Ubf72I2cB"
      },
      "outputs": [],
      "source": [
        "# RandomForest Regressor\n",
        "\n",
        "# My max_depth=16\n",
        "param_grid = {\n",
        "    'n_estimators' : [10, 50, 100, 200, 1000],\n",
        "    'criterion' : ['squared_error','absolute_error', 'friedman_mse', 'poisson'],\n",
        "    'max_depth' : [None, 4, 8, 12],\n",
        "    'min_samples_split' : [2, 5, 8]\n",
        "}\n",
        "model = RandomForestRegressor()\n",
        "\n",
        "gs = GridSearchCV(model,param_grid,scoring='neg_mean_squared_error',verbose=10,n_jobs =-1)\n",
        "#gs.fit(X,y)\n",
        "model.fit(X, y)\n",
        "\n",
        "predictions = model.predict(X_test)\n",
        "\n",
        "plt.scatter(y_test, predictions)\n",
        "plt.plot(np.linspace(0, np.max(y_test), 100), np.linspace(0, np.max(y_test), 100), color='red', linestyle='--')\n",
        "plt.xlabel('Actual Values (y_test)')\n",
        "plt.ylabel('Predicted Values')\n",
        "plt.title('Predicted vs Actual Values')\n",
        "plt.show()"
      ]
    },
    {
      "cell_type": "code",
      "execution_count": null,
      "metadata": {
        "id": "xD5thhNBCdd5"
      },
      "outputs": [],
      "source": [
        "# IGNORE einai gia to deutero, apla evlepa.\n",
        "\n",
        "columns = ['total_feed_ton/h_pv', 'fly_ash_1_ton/h_pv', 'fly_ash_2_ton/h_pv',\n",
        "           'main_fan_speed_rpm_pv', 'separator_speed_rpm_pv', 'grinding_pressure_bar_pv',\n",
        "           'mill_injection_water_m3/h_pv', 'bucket_elv_mtr_pwr_kw_pv', 'mill_dp_mbar_pv']\n",
        "\n",
        "second = extractUsefulInfo(june,columns)"
      ]
    }
  ],
  "metadata": {
    "colab": {
      "gpuType": "T4",
      "provenance": []
    },
    "kernelspec": {
      "display_name": "Python 3",
      "name": "python3"
    },
    "language_info": {
      "codemirror_mode": {
        "name": "ipython",
        "version": 3
      },
      "file_extension": ".py",
      "mimetype": "text/x-python",
      "name": "python",
      "nbconvert_exporter": "python",
      "pygments_lexer": "ipython3",
      "version": "3.9.7"
    }
  },
  "nbformat": 4,
  "nbformat_minor": 0
}
